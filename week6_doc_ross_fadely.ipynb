{
 "cells": [
  {
   "cell_type": "markdown",
   "metadata": {},
   "source": [
    "# Insight week 6, code challenge\n",
    "\n",
    "\n",
    "The goal of this challenge is to sort read a file which contains one line, for which we want to sort the space delimited contents.   Integers-like strings must be sorted as integers and the rest must be sorted as strings.  Moreover, if an int/string appears in the n-th entry in this list an int/string must appear there in the sorted list.  Finally, the string can be filled with arbitray ascii which is not in the alphanumeric we want.  Here is a comprehensible example:\n",
    "\n",
    "<code>20 cat bi?rd 12 do@g</code>\n",
    "---\n",
    "\n",
    "must read\n",
    "\n",
    "<code>12 bird cat 20 dog</code>\n",
    "---\n",
    "\n",
    "---\n"
   ]
  },
  {
   "cell_type": "markdown",
   "metadata": {},
   "source": [
    "## Algorithm\n",
    "\n",
    "My approach is fairly simple:\n",
    "\n",
    "- Read in string from file\n",
    "- Use regular expressions (actually string.translate) to remove all ascii besides alphanumeric, spaces, and dashes\n",
    "- Split string into a list\n",
    "- Go through the list, record integers in one array and alphabetic in another (be careful with dashes)\n",
    "- As the list is traverse, also keep track whether the element is a int or str using a dictionary\n",
    "- Sort the integer and string arrays, using python's sorted function (Timsort)\n",
    "- Go through the list again and replace the elements with the sorted ones, using are dict to decide int or str\n",
    "- Join the list to a string using space delimitation, write to file.\n",
    "\n",
    "\n",
    "---\n"
   ]
  },
  {
   "cell_type": "markdown",
   "metadata": {},
   "source": [
    "## Run the code.\n",
    "\n",
    "###First, import the sorter, and run unit tests"
   ]
  },
  {
   "cell_type": "code",
   "execution_count": 10,
   "metadata": {
    "collapsed": false
   },
   "outputs": [
    {
     "name": "stderr",
     "output_type": "stream",
     "text": [
      "....\n",
      "----------------------------------------------------------------------\n",
      "Ran 4 tests in 0.021s\n",
      "\n",
      "OK\n"
     ]
    },
    {
     "data": {
      "text/plain": [
       "<unittest.runner.TextTestResult run=4 errors=0 failures=0>"
      ]
     },
     "execution_count": 10,
     "metadata": {},
     "output_type": "execute_result"
    }
   ],
   "source": [
    "from listSorting import SortList\n",
    "from test import TestSorterMethods\n",
    "import unittest, sys\n",
    "\n",
    "suite = unittest.TestLoader().loadTestsFromTestCase(TestSorterMethods)\n",
    "unittest.TextTestRunner(verbosity=1,stream=sys.stderr).run(suite)"
   ]
  },
  {
   "cell_type": "markdown",
   "metadata": {},
   "source": [
    "\n",
    "\n",
    "### An example test\n",
    "\n",
    "I have written a string generator (string_gen in test.py) which simulates the problem, lets import and have a look at a test string."
   ]
  },
  {
   "cell_type": "code",
   "execution_count": 2,
   "metadata": {
    "collapsed": false
   },
   "outputs": [
    {
     "name": "stdout",
     "output_type": "stream",
     "text": [
      "�2�5`�3\b7�00 �1\u0003\u0011�5597 cCIMrtQwHGXVjG 434420 GVztoKGqeXdcuNc WhPJCMHvEBIHmOdQ �5���847/�76 alIkwn \n",
      "K�٣p�R�BS/E��g��\u0003\u0019T=\u0003Z�#Aq\u0017g&oNlhbRL uXmsrbZSPWBXwddlvzN -663129 IdldZEgjxo tgmBMrU JJbVTqfOTwU 36377 OzTXaJDbteEhDMbm �-��1Ͽ9065 �`�9�\u0001�16046 405341 �\u00014\u0013&63�\u001d",
      "661\n"
     ]
    }
   ],
   "source": [
    "from test import string_gen\n",
    "test, true, _, _, _ = string_gen(20, seed=123)\n",
    "print test"
   ]
  },
  {
   "cell_type": "markdown",
   "metadata": {},
   "source": [
    "\n",
    "\n",
    "Cool, our test string looks like a mess!  Lets print the desired result, and the result of running SortList"
   ]
  },
  {
   "cell_type": "code",
   "execution_count": 9,
   "metadata": {
    "collapsed": false
   },
   "outputs": [
    {
     "name": "stdout",
     "output_type": "stream",
     "text": [
      "True sorted list:\n",
      "-663129 -19065 alIkwn 15597 cCIMrtQwHGXVjG GVztoKGqeXdcuNc 36377 IdldZEgjxo JJbVTqfOTwU KpRBSEgTZAqgoNlhbRL 253700 OzTXaJDbteEhDMbm tgmBMrU uXmsrbZSPWBXwddlvzN 405341 WhPJCMHvEBIHmOdQ 434420 463661 584776 916046\n",
      "\n",
      "My sorted list:\n",
      "-663129 -19065 alIkwn 15597 cCIMrtQwHGXVjG GVztoKGqeXdcuNc 36377 IdldZEgjxo JJbVTqfOTwU KpRBSEgTZAqgoNlhbRL 253700 OzTXaJDbteEhDMbm tgmBMrU uXmsrbZSPWBXwddlvzN 405341 WhPJCMHvEBIHmOdQ 434420 463661 584776 916046\n"
     ]
    }
   ],
   "source": [
    "print 'True sorted list:\\n', true\n",
    "sorter = SortList()\n",
    "sorter.sort_line(test)\n",
    "print '\\nMy sorted list:\\n', sorter.result"
   ]
  },
  {
   "cell_type": "markdown",
   "metadata": {},
   "source": [
    "Awesome, the desired result is achieved!"
   ]
  },
  {
   "cell_type": "markdown",
   "metadata": {},
   "source": [
    "## Lets look at the run time of the code.\n",
    "\n",
    "###Lets define a timing function, run while doubling the number of entries"
   ]
  },
  {
   "cell_type": "code",
   "execution_count": 47,
   "metadata": {
    "collapsed": false
   },
   "outputs": [],
   "source": [
    "from time import time\n",
    "\n",
    "def timer(sorter, Nvals, repeat=100, seed=1234):\n",
    "    \"\"\"Compute the average run time for Nvals.  Use this (instead \n",
    "    of e.g., timeit) so that the time of the text/file generation\n",
    "    is not included.\n",
    "    \n",
    "    Args:\n",
    "        sorter (class): Class for sorting string.\n",
    "        Nvals (list): List of ints which are the number of words\n",
    "                      or ints in the string.\n",
    "        repeat (Optional[int]): Number of repeated trials to\n",
    "                                average over\n",
    "        seed (Optional[int]): Seed for random number generator\n",
    "                                \n",
    "    Returns:\n",
    "        avg_times (list): Average runtime for Nvals\n",
    "    \"\"\"\n",
    "    avg_times = []\n",
    "    for i, N in enumerate(Nvals):\n",
    "        tot_time = 0.\n",
    "        # generate the test string and write to file\n",
    "        test, _, _, _, _ = string_gen(N, seed=seed)\n",
    "        sorter.result = test\n",
    "        sorter._write('test_list.txt')\n",
    "        for j in range(repeat):    \n",
    "            # only time the actual call\n",
    "            t = time()\n",
    "            sorter.__init__('./test_list.txt', './test_result.txt')\n",
    "            tot_time += (time() - t)\n",
    "            seed += 1\n",
    "        avg_times.append(tot_time / repeat)\n",
    "    return avg_times"
   ]
  },
  {
   "cell_type": "code",
   "execution_count": 48,
   "metadata": {
    "collapsed": false
   },
   "outputs": [],
   "source": [
    "N = [12500, 25000, 50000, 100000, 200000]\n",
    "avg_times = timer(SortList(), N)"
   ]
  },
  {
   "cell_type": "code",
   "execution_count": 49,
   "metadata": {
    "collapsed": false
   },
   "outputs": [
    {
     "name": "stdout",
     "output_type": "stream",
     "text": [
      "[0.02755892038345337, 0.05881011486053467, 0.123423752784729, 0.272075879573822, 0.5438107132911683]\n"
     ]
    }
   ],
   "source": [
    "print avg_times"
   ]
  },
  {
   "cell_type": "markdown",
   "metadata": {},
   "source": [
    "### Lets compute how it scales and compare to big-o\n",
    "\n",
    "The time complexity of the sorting algorithm is set by the steps with the largest complexity.  In this case it is the time complexity of Timsort, which is \n",
    "\n",
    "$$O(n\\log(n))$$.\n",
    "\n",
    "Lets see if our experiment confirms this.  We have computed the average runtime for 12.5k, 25k, 50k, 100k, and 200k entries. Since we expect the algorithm to scale as above, we should expect the ratio of the times to be:"
   ]
  },
  {
   "cell_type": "code",
   "execution_count": 50,
   "metadata": {
    "collapsed": false
   },
   "outputs": [
    {
     "name": "stdout",
     "output_type": "stream",
     "text": [
      "Empirical run time ratios over 100 trials:\n",
      "[2.1339774578341175, 2.0986823963432557, 2.2044045285867004]\n",
      "\n",
      "Expected scaling for NlogN runtime:\n",
      "[2.1469546534867416, 2.1368959081162533, 2.1281259490425364]\n"
     ]
    }
   ],
   "source": [
    "def expected_scaling(N1, N2):\n",
    "    \"\"\"Expected scaling given samples sizes N1 and N2, given O = NlogN\n",
    "\n",
    "    Args:\n",
    "        N1 (int): Number of samples in first run.\n",
    "        N2 (int): Number of samples in second run.\n",
    "        \n",
    "    Returns:\n",
    "        (list): Ratios of run times.\n",
    "    \"\"\"\n",
    "    return (1. * N2 * np.log(N2)) / (N1 * np.log(N1))\n",
    "    \n",
    "print 'Empirical run time ratios over 100 trials:\\n', [avg_times[i] / avg_times[i - 1] for i in range(1, 4)]\n",
    "print '\\nExpected scaling for NlogN runtime:\\n',[expected_scaling(N[i-1], N[i]) for i in range(1, 4)]"
   ]
  },
  {
   "cell_type": "markdown",
   "metadata": {},
   "source": [
    "While not exact, our run times agree pretty well!"
   ]
  },
  {
   "cell_type": "markdown",
   "metadata": {},
   "source": [
    "## Alternatives, conclusion\n",
    "\n",
    "Since python's timsort is $$O(n\\log(n))$$ there are a few time-complexity-equivalent ways to approach the sorting.  Merge sort (which is part of timsort) and quick sort are two options.  Other generic sorts (selection, insertion, ...) are $$O(n^2)$$ so will not improve the situation.  In principle if the number of duplicates are very high, a hash table may be useful to get significant speedups and could approach $$O(n)$$.  Future versions of this code could explore this, and perhaps implement a check to determine the appropriate approach."
   ]
  },
  {
   "cell_type": "code",
   "execution_count": null,
   "metadata": {
    "collapsed": true
   },
   "outputs": [],
   "source": []
  }
 ],
 "metadata": {
  "kernelspec": {
   "display_name": "Python 2",
   "language": "python",
   "name": "python2"
  },
  "language_info": {
   "codemirror_mode": {
    "name": "ipython",
    "version": 2
   },
   "file_extension": ".py",
   "mimetype": "text/x-python",
   "name": "python",
   "nbconvert_exporter": "python",
   "pygments_lexer": "ipython2",
   "version": "2.7.11"
  }
 },
 "nbformat": 4,
 "nbformat_minor": 0
}
